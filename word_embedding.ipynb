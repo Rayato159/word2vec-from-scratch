{
 "cells": [
  {
   "cell_type": "code",
   "execution_count": 1,
   "id": "52d1b766",
   "metadata": {},
   "outputs": [],
   "source": [
    "import torch\n",
    "import torch.nn as nn\n",
    "import torch.optim as optim\n",
    "import torch.nn.functional as F\n",
    "import numpy as np"
   ]
  },
  {
   "cell_type": "code",
   "execution_count": 2,
   "id": "d27fc96c",
   "metadata": {},
   "outputs": [
    {
     "name": "stdout",
     "output_type": "stream",
     "text": [
      "Using cuda device\n"
     ]
    }
   ],
   "source": [
    "device = (\n",
    "    \"cuda\"\n",
    "    if torch.cuda.is_available()\n",
    "    else \"mps\"\n",
    "    if torch.backends.mps.is_available()\n",
    "    else \"cpu\"\n",
    ")\n",
    "print(f\"Using {device} device\")"
   ]
  },
  {
   "cell_type": "code",
   "execution_count": 3,
   "id": "cf76c82a",
   "metadata": {},
   "outputs": [],
   "source": [
    "sentence = \"Chihuahua is cute dog\""
   ]
  },
  {
   "cell_type": "code",
   "execution_count": 4,
   "id": "05400b67",
   "metadata": {},
   "outputs": [],
   "source": [
    "def tokenizer(sentence):\n",
    "    vocabulary = sentence.split()\n",
    "    vocabulary.append(\"<EOS>\")\n",
    "    \n",
    "    return vocabulary"
   ]
  },
  {
   "cell_type": "code",
   "execution_count": 5,
   "id": "64287d74",
   "metadata": {},
   "outputs": [],
   "source": [
    "def vocabulary_one_hot_encoder(tokens):\n",
    "    results = []\n",
    "\n",
    "    for i, _ in enumerate(tokens):\n",
    "        one_hot_encode_vector = [0. for i in range(len(tokens))]\n",
    "        \n",
    "        for j in range(i + 1):\n",
    "            one_hot_encode_vector[j] = 1. if j == i else 0.\n",
    "\n",
    "        results.append(one_hot_encode_vector)\n",
    "                    \n",
    "    return results"
   ]
  },
  {
   "cell_type": "code",
   "execution_count": 6,
   "id": "a879f094",
   "metadata": {},
   "outputs": [],
   "source": [
    "def create_cbow_pairs(sequence, window_size):\n",
    "    cbow_pairs = []\n",
    "\n",
    "    for i in range(len(sequence)):\n",
    "        context = []\n",
    "\n",
    "        for j in range(-window_size, window_size + 1):\n",
    "            if i + j >= 0 and i + j < len(sequence) and j != 0:\n",
    "                context.append(sequence[i + j])\n",
    "\n",
    "        if context:\n",
    "            context = np.sum(context, axis=0) / len(context)\n",
    "            cbow_pairs.append(context)\n",
    "            \n",
    "    return cbow_pairs"
   ]
  },
  {
   "cell_type": "code",
   "execution_count": 7,
   "id": "6faecbb7",
   "metadata": {},
   "outputs": [],
   "source": [
    "def word_decoder(anwser_list, vocabulary):\n",
    "    idx = anwser_list.index(max(anwser_list))        \n",
    "    return vocabulary[idx]"
   ]
  },
  {
   "cell_type": "code",
   "execution_count": 8,
   "id": "594d845d",
   "metadata": {},
   "outputs": [
    {
     "name": "stdout",
     "output_type": "stream",
     "text": [
      "['Chihuahua', 'is', 'cute', 'dog', '<EOS>']\n"
     ]
    }
   ],
   "source": [
    "tokens = tokenizer(sentence)\n",
    "print(tokens)"
   ]
  },
  {
   "cell_type": "code",
   "execution_count": 9,
   "id": "d5cdca80",
   "metadata": {},
   "outputs": [
    {
     "name": "stdout",
     "output_type": "stream",
     "text": [
      "[[1.0, 0.0, 0.0, 0.0, 0.0], [0.0, 1.0, 0.0, 0.0, 0.0], [0.0, 0.0, 1.0, 0.0, 0.0], [0.0, 0.0, 0.0, 1.0, 0.0], [0.0, 0.0, 0.0, 0.0, 1.0]]\n"
     ]
    }
   ],
   "source": [
    "training_x = vocabulary_one_hot_encoder(tokens)\n",
    "print(training_x)"
   ]
  },
  {
   "cell_type": "code",
   "execution_count": 10,
   "id": "064a8de9",
   "metadata": {},
   "outputs": [
    {
     "name": "stdout",
     "output_type": "stream",
     "text": [
      "[array([0. , 0.5, 0.5, 0. , 0. ]), array([0.33333333, 0.        , 0.33333333, 0.33333333, 0.        ]), array([0.25, 0.25, 0.  , 0.25, 0.25]), array([0.        , 0.33333333, 0.33333333, 0.        , 0.33333333]), array([0. , 0. , 0.5, 0.5, 0. ])]\n"
     ]
    }
   ],
   "source": [
    "CONTEXT_SIZE = 2\n",
    "\n",
    "training_y = create_cbow_pairs(training_x, CONTEXT_SIZE)\n",
    "print(training_y)"
   ]
  },
  {
   "cell_type": "code",
   "execution_count": 11,
   "id": "a70620b7",
   "metadata": {},
   "outputs": [],
   "source": [
    "class CBOWModeler(nn.Module):\n",
    "    def __init__(self, volcabulary_size, embedding_dim):\n",
    "        super(CBOWModeler, self).__init__()\n",
    "        self.linear1 = nn.Linear(volcabulary_size, embedding_dim, bias=False)\n",
    "        self.linear2 = nn.Linear(embedding_dim, volcabulary_size, bias=False)\n",
    "\n",
    "    def forward(self, x):\n",
    "        out = self.linear1(x)\n",
    "        out = self.linear2(out)\n",
    "        return F.softmax(out, dim=-1)\n",
    "    \n",
    "    def save_embedding_model(self):\n",
    "        params = self.linear1.state_dict()\n",
    "        torch.save(params, \"./embedding_model.pt\")"
   ]
  },
  {
   "cell_type": "code",
   "execution_count": 12,
   "id": "d24fe92f",
   "metadata": {},
   "outputs": [
    {
     "name": "stdout",
     "output_type": "stream",
     "text": [
      "CBOWModeler(\n",
      "  (linear1): Linear(in_features=5, out_features=2, bias=False)\n",
      "  (linear2): Linear(in_features=2, out_features=5, bias=False)\n",
      ")\n"
     ]
    }
   ],
   "source": [
    "EMBEDDING_DIM = 2\n",
    "\n",
    "losses = []\n",
    "loss_function = nn.CrossEntropyLoss()\n",
    "model = CBOWModeler(len(tokens), EMBEDDING_DIM)\n",
    "optimizer = optim.Adam(model.parameters(), lr=0.001)\n",
    "\n",
    "print(model)"
   ]
  },
  {
   "cell_type": "code",
   "execution_count": 13,
   "id": "3f68bd9b",
   "metadata": {},
   "outputs": [],
   "source": [
    "for epoch in range(100):\n",
    "    total_loss = 0\n",
    "    \n",
    "    for x, y in zip(training_x, training_y):\n",
    "        x, y = torch.tensor(x), torch.tensor(y)\n",
    "\n",
    "        model.zero_grad()\n",
    "\n",
    "        y_hat = model(x)\n",
    "\n",
    "        loss = loss_function(y, y_hat)\n",
    "\n",
    "        loss.backward()\n",
    "        optimizer.step()\n",
    "\n",
    "        total_loss += loss.item()\n",
    "    losses.append(total_loss)\n",
    "\n",
    "model.save_embedding_model()"
   ]
  },
  {
   "cell_type": "code",
   "execution_count": 14,
   "id": "8be5b190",
   "metadata": {},
   "outputs": [],
   "source": [
    "import matplotlib.pyplot as plt"
   ]
  },
  {
   "cell_type": "code",
   "execution_count": 15,
   "id": "994990d1",
   "metadata": {},
   "outputs": [],
   "source": [
    "def plot_losses(ax, t, losses):\n",
    "    ax.plot(t, losses)\n",
    "    ax.set_xlabel(\"Epoch\")\n",
    "    ax.set_ylabel(\"Loss\")"
   ]
  },
  {
   "cell_type": "code",
   "execution_count": 16,
   "id": "3541ba36",
   "metadata": {},
   "outputs": [
    {
     "data": {
      "image/png": "[encoded data removed]",
      "text/plain": [
       "<Figure size 640x480 with 1 Axes>"
      ]
     },
     "metadata": {},
     "output_type": "display_data"
    }
   ],
   "source": [
    "fig, ax = plt.subplots()\n",
    "plot_losses(ax, np.linspace(0., 10., len(losses)), losses)"
   ]
  },
  {
   "cell_type": "code",
   "execution_count": 17,
   "id": "783469be",
   "metadata": {},
   "outputs": [
    {
     "name": "stdout",
     "output_type": "stream",
     "text": [
      "Chihuahua is\n",
      "is dog\n",
      "cute <EOS>\n",
      "dog is\n",
      "<EOS> dog\n"
     ]
    }
   ],
   "source": [
    "for x, y in zip(training_x, training_y):\n",
    "    # Get predicted vector\n",
    "    pred = model(torch.tensor(x))\n",
    "\n",
    "    # Get the argmax index\n",
    "    argmax_idx = torch.argmax(pred, keepdim=True)\n",
    "\n",
    "    # Create a one-hot encoded tensor\n",
    "    anwser_vector = F.one_hot(argmax_idx, num_classes=pred.size(-1)).int()\n",
    "    anwser_list = anwser_vector.tolist()\n",
    "\n",
    "    question = word_decoder(x, tokens)\n",
    "    answer = word_decoder(anwser_list[0], tokens)\n",
    "    print(question, answer)"
   ]
  }
 ],
 "metadata": {
  "kernelspec": {
   "display_name": "Python 3 (ipykernel)",
   "language": "python",
   "name": "python3"
  },
  "language_info": {
   "codemirror_mode": {
    "name": "ipython",
    "version": 3
   },
   "file_extension": ".py",
   "mimetype": "text/x-python",
   "name": "python",
   "nbconvert_exporter": "python",
   "pygments_lexer": "ipython3",
   "version": "3.12.3"
  }
 },
 "nbformat": 4,
 "nbformat_minor": 5
}
